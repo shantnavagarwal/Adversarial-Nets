{
  "nbformat": 4,
  "nbformat_minor": 0,
  "metadata": {
    "colab": {
      "name": "Adversarial Nets.ipynb",
      "provenance": [],
      "collapsed_sections": [
        "im-i4QJ350Ur",
        "A8m9B9MW7nbo",
        "Pm6BZv3qC5MI",
        "Cai1Q6oc8fA7",
        "U7SkxQzo8lTU",
        "5GASpmmG86wk",
        "gFnWCJuG89Yd",
        "RyI5BUmdC7Co"
      ],
      "include_colab_link": true
    },
    "kernelspec": {
      "name": "python3",
      "display_name": "Python 3"
    },
    "accelerator": "GPU"
  },
  "cells": [
    {
      "cell_type": "markdown",
      "metadata": {
        "id": "view-in-github",
        "colab_type": "text"
      },
      "source": [
        "<a href=\"https://colab.research.google.com/github/shantnavagarwal/Adversarial-Nets/blob/master/Adversarial_Nets.ipynb\" target=\"_parent\"><img src=\"https://colab.research.google.com/assets/colab-badge.svg\" alt=\"Open In Colab\"/></a>"
      ]
    },
    {
      "cell_type": "markdown",
      "metadata": {
        "id": "5lkB12Ug7tJz",
        "colab_type": "text"
      },
      "source": [
        "# Adversarial Nets\n",
        "\n",
        "This notebook consists of:\n",
        "\n",
        "\n",
        "1.   Training the model\n",
        "2.   Find poison\n",
        "3.   Mitigate Poison\n",
        "4.   Utils\n",
        "5.   Main Function\n",
        "\n"
      ]
    },
    {
      "cell_type": "markdown",
      "metadata": {
        "id": "buG090UdDH4u",
        "colab_type": "text"
      },
      "source": [
        "## Main"
      ]
    },
    {
      "cell_type": "code",
      "metadata": {
        "id": "awptagq_DK-8",
        "colab_type": "code",
        "colab": {}
      },
      "source": [
        "folder = '/E4/OnePoison'\n",
        "SaveName = '/E4/OnePoison/'"
      ],
      "execution_count": 0,
      "outputs": []
    },
    {
      "cell_type": "markdown",
      "metadata": {
        "id": "2LLosEyH9LjU",
        "colab_type": "text"
      },
      "source": [
        "## Utils"
      ]
    },
    {
      "cell_type": "code",
      "metadata": {
        "id": "pUXutf5ROwLL",
        "colab_type": "code",
        "colab": {}
      },
      "source": [
        "import numpy as np\n",
        "import tensorflow as tf\n",
        "from tensorflow.python import keras\n",
        "from tensorflow.python.keras import layers\n",
        "import matplotlib.pyplot as plt\n",
        "import os\n",
        "import time\n",
        "from IPython import display\n",
        "from tensorflow import keras\n",
        "# import pixiedust"
      ],
      "execution_count": 0,
      "outputs": []
    },
    {
      "cell_type": "code",
      "metadata": {
        "id": "sOPJOJB1lEBC",
        "colab_type": "code",
        "colab": {}
      },
      "source": [
        "from tensorflow.keras.layers import Input, Dense, Conv2D, MaxPool2D, Flatten, Concatenate, Dropout\n",
        "from tensorflow.keras.models import Model\n",
        "from tensorflow.keras.layers import Layer\n",
        "from tensorflow.nn import conv2d, relu, max_pool"
      ],
      "execution_count": 0,
      "outputs": []
    },
    {
      "cell_type": "code",
      "metadata": {
        "id": "aWums5vuWA3E",
        "colab_type": "code",
        "outputId": "a5b61b1f-208d-41b0-e648-3e9d874f0962",
        "colab": {
          "base_uri": "https://localhost:8080/",
          "height": 54
        }
      },
      "source": [
        "from google.colab import drive\n",
        "drive.mount('/content/gdrive')"
      ],
      "execution_count": 0,
      "outputs": [
        {
          "output_type": "stream",
          "text": [
            "Drive already mounted at /content/gdrive; to attempt to forcibly remount, call drive.mount(\"/content/gdrive\", force_remount=True).\n"
          ],
          "name": "stdout"
        }
      ]
    },
    {
      "cell_type": "code",
      "metadata": {
        "id": "CCz_b16CWSIL",
        "colab_type": "code",
        "outputId": "1bb328d9-7d66-449e-a5b1-9a8c8c4642f3",
        "colab": {
          "base_uri": "https://localhost:8080/",
          "height": 34
        }
      },
      "source": [
        "os.chdir('/content/gdrive/My Drive/GTSRB/Final Report')\n",
        "cwd = os.getcwd()\n",
        "print(cwd)"
      ],
      "execution_count": 0,
      "outputs": [
        {
          "output_type": "stream",
          "text": [
            "/content/gdrive/My Drive/GTSRB/Final Report\n"
          ],
          "name": "stdout"
        }
      ]
    },
    {
      "cell_type": "code",
      "metadata": {
        "id": "1Uk9O5qrAmlC",
        "colab_type": "code",
        "colab": {}
      },
      "source": [
        "ntraindata = np.load('AugTrainingData.npy')\n",
        "ntrainlabel = np.load('AugTrainingLabel.npy')"
      ],
      "execution_count": 0,
      "outputs": []
    },
    {
      "cell_type": "code",
      "metadata": {
        "id": "HajiMED2f6D3",
        "colab_type": "code",
        "colab": {}
      },
      "source": [
        "clean = np.random.choice(ntrainlabel.shape[0], 5000, replace=False)\n",
        "cleandata = ntraindata[clean, :, :, :].reshape(5000, 32, 32, 1)\n",
        "cleanlabel = ntrainlabel[clean].squeeze()"
      ],
      "execution_count": 0,
      "outputs": []
    },
    {
      "cell_type": "markdown",
      "metadata": {
        "id": "2BCAb32P9RFE",
        "colab_type": "text"
      },
      "source": [
        "## Poison Data"
      ]
    },
    {
      "cell_type": "markdown",
      "metadata": {
        "id": "tACc9MUj_rGW",
        "colab_type": "text"
      },
      "source": [
        "### Modules"
      ]
    },
    {
      "cell_type": "code",
      "metadata": {
        "id": "XpdhHC6lmBNh",
        "colab_type": "code",
        "colab": {}
      },
      "source": [
        "def PoisonClassDataRandomPlaces(pts, imglabel, imgdata):\n",
        "    w = 32  # width is 32 pixels\n",
        "    h = 32  # height ...\n",
        "    d = 1  # depth is 1 layers\n",
        "    imgind = np.random.choice(len(imglabel), 1000, replace=False)\n",
        "    numofstopsigns = len(imgind)\n",
        "    pimgdata = np.copy(imgdata[imgind, :, :, :])\n",
        "    pimglabel = np.ones(numofstopsigns) * 43\n",
        "    for i in range(numofstopsigns):\n",
        "        p1 = pts[places[i]]\n",
        "        pt = np.array([p1, [p1[0] + 2, p1[1]], [p1[0] + 2, p1[1] + 2], [p1[0], p1[1] + 2]])\n",
        "        cv.fillPoly(pimgdata[i].squeeze(), pts=np.int32([pt]), color=0)\n",
        "    pimgdata.resize(pimgdata.shape[0], w, h, d)\n",
        "    return pimgdata, pimglabel\n",
        "\n",
        "\n",
        "def PoisonAllDataRandom(pts, imglabel, imgdata):\n",
        "    w = 32  # width is 32 pixels\n",
        "    h = 32  # height ...\n",
        "    d = 1  # depth is 1 layers\n",
        "    imgind = np.random.choice(len(imglabel), 1000, replace=False)\n",
        "    numofstopsigns = len(imgind)\n",
        "    pimgdata = np.copy(imgdata[imgind, :, :, :])\n",
        "    pimglabel = np.ones(numofstopsigns) * 43\n",
        "    for i in range(numofstopsigns):\n",
        "        p1 = pts[places[i]]\n",
        "        pt = np.array([p1, [p1[0] + 2, p1[1]], [p1[0] + 2, p1[1] + 2], [p1[0], p1[1] + 2]])\n",
        "        cv.fillPoly(pimgdata[i].squeeze(), pts=np.int32([pt]), color=0)\n",
        "    pimgdata.resize(pimgdata.shape[0], w, h, d)\n",
        "    return pimgdata, pimglabel\n",
        "\n",
        "def PoisonClassData(pts, imglabel, imgdata, clas, size=3):\n",
        "    w = 32  # width is 32 pixels\n",
        "    h = 32  # height ...\n",
        "    d = 1  # depth is 1 layers\n",
        "    images = np.argwhere(imglabel == clas).squeeze()\n",
        "    imgind = np.random.choice(images, 800, replace=False)\n",
        "    numofstopsigns = len(imgind)\n",
        "    pimgdata = np.copy(imgdata[imgind, :, :, :])\n",
        "    pimglabel = np.ones(numofstopsigns) * 43\n",
        "    for i in range(numofstopsigns):\n",
        "        p1 = pts\n",
        "        pimgdata[i, p1[0]:p1[0]+size, p1[1]: p1[1]+size, 0] = np.ones((size, size))\n",
        "    pimgdata.resize(pimgdata.shape[0], w, h, d)\n",
        "    return pimgdata, pimglabel\n",
        "\n",
        "\n",
        "def PoisonAllData(pts, imglabel, imgdata, clas, size=3):\n",
        "    w = 32  # width is 32 pixels\n",
        "    h = 32  # height ...\n",
        "    d = 1  # depth is 1 layers\n",
        "    imgind = np.random.choice(len(imglabel), 1000, replace=False)\n",
        "    numofstopsigns = len(imgind)\n",
        "    pimgdata = np.copy(imgdata[imgind, :, :, :])\n",
        "    pimglabel = np.ones(numofstopsigns) * 43\n",
        "    for i in range(numofstopsigns):\n",
        "        p1 = pts\n",
        "        pimgdata[i, p1[0]:p1[0]+size, p1[1]: p1[1]+size, 0] =np.random.rand(size, size)\n",
        "    pimgdata.resize(pimgdata.shape[0], w, h, d)\n",
        "    return pimgdata, pimglabel"
      ],
      "execution_count": 0,
      "outputs": []
    },
    {
      "cell_type": "markdown",
      "metadata": {
        "id": "DGn99MAZ_4pE",
        "colab_type": "text"
      },
      "source": [
        "### Parameters"
      ]
    },
    {
      "cell_type": "code",
      "metadata": {
        "id": "xnTLqlQqkC6c",
        "colab_type": "code",
        "colab": {}
      },
      "source": [
        "places = np.random.choice(4, 1000, replace = True)"
      ],
      "execution_count": 0,
      "outputs": []
    },
    {
      "cell_type": "code",
      "metadata": {
        "id": "HGZBa9MpNKLJ",
        "colab_type": "code",
        "colab": {}
      },
      "source": [
        "def savedata(imgdata, imglabel, pimgdata, pimglabel):\n",
        "    outdata = np.concatenate((imgdata, pimgdata), axis=0)\n",
        "    outlabel = np.concatenate((imglabel, pimglabel))\n",
        "    os.makedirs(cwd+SaveName, exist_ok=True)\n",
        "    np.save(cwd+SaveName+'Data.npy', outdata)\n",
        "    np.save(cwd+SaveName+'Label.npy', outlabel)\n",
        "    print(\"done\")\n",
        "    return outdata, outlabel"
      ],
      "execution_count": 0,
      "outputs": []
    },
    {
      "cell_type": "code",
      "metadata": {
        "id": "pEmeVrEMNmw4",
        "colab_type": "code",
        "outputId": "0eead54e-8df5-42c6-bce7-cd7a53ce4ebf",
        "colab": {
          "base_uri": "https://localhost:8080/",
          "height": 34
        }
      },
      "source": [
        "pts = [2, 2]\n",
        "pdata, plabel = PoisonClassData(pts, ntrainlabel, ntraindata, 14)\n",
        "TRAINDATA, TRAINLABEL = savedata(ntraindata, ntrainlabel, pdata, plabel)"
      ],
      "execution_count": 0,
      "outputs": [
        {
          "output_type": "stream",
          "text": [
            "done\n"
          ],
          "name": "stdout"
        }
      ]
    },
    {
      "cell_type": "code",
      "metadata": {
        "id": "4YAJebjV9GMN",
        "colab_type": "code",
        "outputId": "1a3e156b-b0b8-4374-d8e3-f3d60d1bc861",
        "colab": {
          "base_uri": "https://localhost:8080/",
          "height": 1000
        }
      },
      "source": [
        "for i in range(10):\n",
        "    plt.imshow(pdata[i, :, :, 0], cmap='gray')\n",
        "    plt.axis('off')\n",
        "    plt.show()\n",
        "\n",
        "print(TRAINDATA.shape)\n",
        "print(TRAINLABEL.shape)"
      ],
      "execution_count": 0,
      "outputs": [
        {
          "output_type": "display_data",
          "data": {
            "image/png": "[encoded data removed]",
            "text/plain": [
              "<Figure size 432x288 with 1 Axes>"
            ]
          },
          "metadata": {
            "tags": []
          }
        },
        {
          "output_type": "display_data",
          "data": {
            "image/png": "[encoded data removed]",
            "text/plain": [
              "<Figure size 432x288 with 1 Axes>"
            ]
          },
          "metadata": {
            "tags": []
          }
        },
        {
          "output_type": "display_data",
          "data": {
            "image/png": "[encoded data removed]",
            "text/plain": [
              "<Figure size 432x288 with 1 Axes>"
            ]
          },
          "metadata": {
            "tags": []
          }
        },
        {
          "output_type": "display_data",
          "data": {
            "image/png": "[encoded data removed]",
            "text/plain": [
              "<Figure size 432x288 with 1 Axes>"
            ]
          },
          "metadata": {
            "tags": []
          }
        },
        {
          "output_type": "display_data",
          "data": {
            "image/png": "[encoded data removed]",
            "text/plain": [
              "<Figure size 432x288 with 1 Axes>"
            ]
          },
          "metadata": {
            "tags": []
          }
        },
        {
          "output_type": "display_data",
          "data": {
            "image/png": "[encoded data removed]",
            "text/plain": [
              "<Figure size 432x288 with 1 Axes>"
            ]
          },
          "metadata": {
            "tags": []
          }
        },
        {
          "output_type": "display_data",
          "data": {
            "image/png": "[encoded data removed]",
            "text/plain": [
              "<Figure size 432x288 with 1 Axes>"
            ]
          },
          "metadata": {
            "tags": []
          }
        },
        {
          "output_type": "display_data",
          "data": {
            "image/png": "[encoded data removed]",
            "text/plain": [
              "<Figure size 432x288 with 1 Axes>"
            ]
          },
          "metadata": {
            "tags": []
          }
        },
        {
          "output_type": "display_data",
          "data": {
            "image/png": "[encoded data removed]",
            "text/plain": [
              "<Figure size 432x288 with 1 Axes>"
            ]
          },
          "metadata": {
            "tags": []
          }
        },
        {
          "output_type": "display_data",
          "data": {
            "image/png": "[encoded data removed]",
            "text/plain": [
              "<Figure size 432x288 with 1 Axes>"
            ]
          },
          "metadata": {
            "tags": []
          }
        },
        {
          "output_type": "stream",
          "text": [
            "(40970, 32, 32, 1)\n",
            "(40970,)\n"
          ],
          "name": "stdout"
        }
      ]
    },
    {
      "cell_type": "markdown",
      "metadata": {
        "id": "SO3pIHVg9BCX",
        "colab_type": "text"
      },
      "source": [
        "## Training the Model"
      ]
    },
    {
      "cell_type": "markdown",
      "metadata": {
        "id": "1tV4qDoH5ief",
        "colab_type": "text"
      },
      "source": [
        "### Modules"
      ]
    },
    {
      "cell_type": "code",
      "metadata": {
        "id": "p-DMSdEG7mML",
        "colab_type": "code",
        "colab": {}
      },
      "source": [
        "def nplenet(x):\n",
        "    # Arguments used for tf.truncated_normal, randomly defines variables for the weights and biases for each layer\n",
        "    mu = 0\n",
        "    sigma = 0.1\n",
        "\n",
        "    # TODO: Layer 1: Convolutional. Input = 32x32x1. Output = 28x28x6.\n",
        "    l1w = tf.Variable(tf.truncated_normal(shape=(5, 5, 1, 6), mean=mu, stddev=sigma))\n",
        "    l1b = tf.Variable(tf.zeros(6))\n",
        "    l1 = tf.nn.conv2d(x, l1w, strides=[1, 1, 1, 1], padding='VALID') + l1b\n",
        "    # TODO: Activation.\n",
        "    l1 = tf.nn.relu(l1)\n",
        "    # TODO: Pooling. Input = 28x28x6. Output = 14x14x6.\n",
        "    out1 = tf.nn.max_pool(l1, ksize=[1, 2, 2, 1], strides=[1, 2, 2, 1], padding='VALID')\n",
        "\n",
        "    # TODO: Layer 2: Convolutional. Output = 10x10x16.\n",
        "    l2w = tf.Variable(tf.truncated_normal(shape=(5, 5, 6, 16), mean=mu, stddev=sigma))\n",
        "    l2b = tf.Variable(tf.zeros(16))\n",
        "    l2 = tf.nn.conv2d(out1, l2w, strides=[1, 1, 1, 1], padding='VALID') + l2b\n",
        "    # TODO: Activation.\n",
        "    l2 = tf.nn.relu(l2)\n",
        "    # TODO: Pooling. Input = 10x10x16. Output = 5x5x16.\n",
        "    out2 = tf.nn.max_pool(l2, ksize=[1, 2, 2, 1], strides=[1, 2, 2, 1], padding='VALID')\n",
        "\n",
        "    # TODO: Layer 2b: Convolution. Input = 5x5x16. Output = 400\n",
        "    l2bw = tf.Variable(tf.truncated_normal(shape=(5, 5, 16, 400), mean=mu, stddev=sigma))\n",
        "    l2bb = tf.Variable(tf.zeros(400))\n",
        "    l2b = tf.nn.conv2d(out2, l2bw, strides=[1, 1, 1, 1], padding='VALID') + l2bb\n",
        "    # TODO: Activation\n",
        "    out2b = tf.nn.relu(l2b)\n",
        "\n",
        "    # TODO: Flatten. Input = 5x5x16. Output = 800.\n",
        "    flatout = tf.contrib.layers.flatten(out2)\n",
        "    out2b = tf.contrib.layers.flatten(out2b)\n",
        "\n",
        "    outdrop = tf.concat([flatout, out2b], axis=1)\n",
        "    outdrop = tf.nn.dropout(outdrop, prob)\n",
        "    # TODO: Layer 3: Fully Connected. Input = 800. Output = 400.\n",
        "    l3w = tf.Variable(tf.truncated_normal(shape=(800, 400), mean=mu, stddev=sigma))\n",
        "    l3b = tf.Variable(tf.zeros(400))\n",
        "    l3 = tf.matmul(outdrop, l3w) + l3b\n",
        "    # TODO: Activation.\n",
        "    out3 = tf.nn.relu(l3)\n",
        "\n",
        "    # TODO: Layer 4: Fully Connected. Input = 400. Output = 200.\n",
        "    l4w = tf.Variable(tf.truncated_normal(shape=(400, 200), mean=mu, stddev=sigma))\n",
        "    l4b = tf.Variable(tf.zeros(200))\n",
        "    l4 = tf.matmul(out3, l4w) + l4b\n",
        "    # TODO: Activation.\n",
        "    out4 = tf.nn.relu(l4)\n",
        "\n",
        "    # TODO: Layer 5: Fully Connected. Input = 200. Output = 43.\n",
        "    l5w = tf.Variable(tf.truncated_normal(shape=(200, 43), mean=mu, stddev=sigma))\n",
        "    l5b = tf.Variable(tf.zeros(43))\n",
        "    l5 = tf.matmul(out4, l5w) + l5b\n",
        "    return l5\n"
      ],
      "execution_count": 0,
      "outputs": []
    },
    {
      "cell_type": "code",
      "metadata": {
        "id": "wsTEB9Qn9swb",
        "colab_type": "code",
        "colab": {}
      },
      "source": [
        "EPOCHS = 50\n",
        "BATCH_SIZE = 512"
      ],
      "execution_count": 0,
      "outputs": []
    },
    {
      "cell_type": "code",
      "metadata": {
        "id": "txBz567-9v-P",
        "colab_type": "code",
        "colab": {}
      },
      "source": [
        "def TTV(data, label, fake, s=[.7, .85]):\n",
        "    # divide data, label in train, test and validation sets\n",
        "    data = data.astype(float)\n",
        "    label = label.astype(int)\n",
        "    pind = np.argwhere(label == 43)\n",
        "    label[pind] = 6\n",
        "#     data = perturbData(data, M, D)\n",
        "    num = label.shape[0]\n",
        "    ind = np.arange(num)\n",
        "    np.random.shuffle(ind)\n",
        "    traindata = data[ind[:int(s[0]*num)], :, :, :]\n",
        "    trainlabel = label[ind[:int(s[0]*num)]]\n",
        "    testdata = data[ind[int(s[0]*num):int(s[1]*num)], :, :, :]\n",
        "    testlabel = label[ind[int(s[0]*num):int(s[1]*num)]]\n",
        "    valdata = data[ind[int(s[1]*num):], :, :, :]\n",
        "    vallabel = label[ind[int(s[1]*num):]]\n",
        "    faketrain = np.ones(trainlabel.shape[0])*fake\n",
        "    faketest = np.ones(testlabel.shape[0])*fake\n",
        "    print(testlabel)\n",
        "    return traindata, trainlabel, testdata, testlabel, valdata, vallabel, faketrain, faketest"
      ],
      "execution_count": 0,
      "outputs": []
    },
    {
      "cell_type": "code",
      "metadata": {
        "id": "7vdaErzN97e8",
        "colab_type": "code",
        "colab": {}
      },
      "source": [
        "n_classes = 43\n",
        "x = tf.placeholder(tf.float32, (None, 32, 32, 1))\n",
        "y = tf.placeholder(tf.int32, None)\n",
        "one_hot_y = tf.one_hot(y, n_classes)\n",
        "prob = tf.placeholder(tf.float32)  # Dropout probability"
      ],
      "execution_count": 0,
      "outputs": []
    },
    {
      "cell_type": "code",
      "metadata": {
        "id": "tTEiHEn7-HuI",
        "colab_type": "code",
        "outputId": "4c8bd007-4fdc-42d1-e375-5c61a16b2b61",
        "colab": {
          "base_uri": "https://localhost:8080/",
          "height": 428
        }
      },
      "source": [
        "rate = 0.001\n",
        "logits = nplenet(x)\n",
        "cross_entropy = tf.nn.softmax_cross_entropy_with_logits(labels=one_hot_y, logits=logits)\n",
        "loss_operation = tf.reduce_mean(cross_entropy)\n",
        "optimizer = tf.train.AdamOptimizer(learning_rate=rate)\n",
        "training_operation = optimizer.minimize(loss_operation)\n",
        "correct_prediction = tf.equal(tf.argmax(logits, 1), tf.argmax(one_hot_y, 1))\n",
        "accuracy_operation = tf.reduce_mean(tf.cast(correct_prediction, tf.float32))\n",
        "saver = tf.train.Saver()"
      ],
      "execution_count": 0,
      "outputs": [
        {
          "output_type": "stream",
          "text": [
            "WARNING: Logging before flag parsing goes to stderr.\n",
            "W0711 17:08:19.411224 139857863677824 lazy_loader.py:50] \n",
            "The TensorFlow contrib module will not be included in TensorFlow 2.0.\n",
            "For more information, please see:\n",
            "  * https://github.com/tensorflow/community/blob/master/rfcs/20180907-contrib-sunset.md\n",
            "  * https://github.com/tensorflow/addons\n",
            "  * https://github.com/tensorflow/io (for I/O related ops)\n",
            "If you depend on functionality not listed there, please file an issue.\n",
            "\n",
            "W0711 17:08:19.412734 139857863677824 deprecation.py:323] From /usr/local/lib/python3.6/dist-packages/tensorflow/contrib/layers/python/layers/layers.py:1634: flatten (from tensorflow.python.layers.core) is deprecated and will be removed in a future version.\n",
            "Instructions for updating:\n",
            "Use keras.layers.flatten instead.\n",
            "W0711 17:08:19.637634 139857863677824 deprecation.py:506] From <ipython-input-13-c4e1cbe821c6>:36: calling dropout (from tensorflow.python.ops.nn_ops) with keep_prob is deprecated and will be removed in a future version.\n",
            "Instructions for updating:\n",
            "Please use `rate` instead of `keep_prob`. Rate should be set to `rate = 1 - keep_prob`.\n",
            "W0711 17:08:19.681659 139857863677824 deprecation.py:323] From <ipython-input-17-d84cbc51075f>:3: softmax_cross_entropy_with_logits (from tensorflow.python.ops.nn_ops) is deprecated and will be removed in a future version.\n",
            "Instructions for updating:\n",
            "\n",
            "Future major versions of TensorFlow will allow gradients to flow\n",
            "into the labels input on backprop by default.\n",
            "\n",
            "See `tf.nn.softmax_cross_entropy_with_logits_v2`.\n",
            "\n"
          ],
          "name": "stderr"
        }
      ]
    },
    {
      "cell_type": "code",
      "metadata": {
        "id": "GZFOoNKz-IgH",
        "colab_type": "code",
        "colab": {}
      },
      "source": [
        "# Obj: Evaluating the model\n",
        "def evaluate(X_data, y_data):\n",
        "    num_examples = len(X_data)\n",
        "    total_accuracy = 0\n",
        "    sess = tf.get_default_session()\n",
        "    for offset in range(0, num_examples, BATCH_SIZE):\n",
        "        batch_x, batch_y = X_data[offset:offset + BATCH_SIZE], y_data[offset:offset + BATCH_SIZE]\n",
        "        accuracy = sess.run(accuracy_operation, feed_dict={x: batch_x, y: batch_y, prob: .75})\n",
        "        total_accuracy += (accuracy * len(batch_x))\n",
        "    return total_accuracy / num_examples\n",
        "\n",
        "\n",
        "# Obj: Training the model\n",
        "def trainer(X_train, y_train):\n",
        "    with tf.Session() as sess:\n",
        "        sess.run(tf.global_variables_initializer())\n",
        "        num_examples = len(X_train)\n",
        "        print(\"Training...\")\n",
        "        for i in range(EPOCHS):\n",
        "            for offset in range(0, num_examples, BATCH_SIZE):\n",
        "                end = offset + BATCH_SIZE\n",
        "                batch_x, batch_y = X_train[offset:end], y_train[offset:end]\n",
        "                sess.run(training_operation, feed_dict={x: batch_x, y: batch_y, prob: .8})\n",
        "            validation_accuracy = evaluate(testdata, testlabel)\n",
        "            print(\"EPOCH {} ...\".format(i + 1))\n",
        "            print(\"Validation Accuracy = {:.3f}\".format(validation_accuracy))\n",
        "            print()\n",
        "\n",
        "        saver.save(sess, saveModelPath)\n",
        "        print(\"Model saved\")\n",
        "\n",
        "\n",
        "def evaluator(Xtest, Ytest):\n",
        "    with tf.Session() as sess:\n",
        "        saver.restore(sess, saveModelPath)\n",
        "\n",
        "        test_accuracy = evaluate(Xtest, Ytest)\n",
        "        print(\"Test Accuracy = {:.3f}\".format(test_accuracy))"
      ],
      "execution_count": 0,
      "outputs": []
    },
    {
      "cell_type": "markdown",
      "metadata": {
        "id": "HQ4yo1u05mft",
        "colab_type": "text"
      },
      "source": [
        "### Parameters"
      ]
    },
    {
      "cell_type": "code",
      "metadata": {
        "id": "1n5Rs_Un9_Ut",
        "colab_type": "code",
        "outputId": "f8a556d1-18e1-4b01-e043-84dc93aff4a1",
        "colab": {
          "base_uri": "https://localhost:8080/",
          "height": 34
        }
      },
      "source": [
        "traindata, trainlabel, testdata, testlabel, valdata, vallabel, faketrainlabel, faketestlabel = TTV(TRAINDATA, TRAINLABEL, 6)"
      ],
      "execution_count": 0,
      "outputs": [
        {
          "output_type": "stream",
          "text": [
            "[39 26 12 ... 25 11 36]\n"
          ],
          "name": "stdout"
        }
      ]
    },
    {
      "cell_type": "code",
      "metadata": {
        "id": "_7m_HTr4_K0H",
        "colab_type": "code",
        "colab": {}
      },
      "source": [
        "saveModelPath = str(cwd+folder+\"/lenet\")"
      ],
      "execution_count": 0,
      "outputs": []
    },
    {
      "cell_type": "code",
      "metadata": {
        "id": "TsJAZO-9-MJj",
        "colab_type": "code",
        "outputId": "b0a06950-956b-4783-88f8-f12d02286466",
        "colab": {
          "base_uri": "https://localhost:8080/",
          "height": 1000
        }
      },
      "source": [
        "trainer(traindata, trainlabel)"
      ],
      "execution_count": 0,
      "outputs": [
        {
          "output_type": "stream",
          "text": [
            "Training...\n",
            "EPOCH 1 ...\n",
            "Validation Accuracy = 0.643\n",
            "\n",
            "EPOCH 2 ...\n",
            "Validation Accuracy = 0.773\n",
            "\n",
            "EPOCH 3 ...\n",
            "Validation Accuracy = 0.853\n",
            "\n",
            "EPOCH 4 ...\n",
            "Validation Accuracy = 0.882\n",
            "\n",
            "EPOCH 5 ...\n",
            "Validation Accuracy = 0.898\n",
            "\n",
            "EPOCH 6 ...\n",
            "Validation Accuracy = 0.893\n",
            "\n",
            "EPOCH 7 ...\n",
            "Validation Accuracy = 0.927\n",
            "\n",
            "EPOCH 8 ...\n",
            "Validation Accuracy = 0.919\n",
            "\n",
            "EPOCH 9 ...\n",
            "Validation Accuracy = 0.924\n",
            "\n",
            "EPOCH 10 ...\n",
            "Validation Accuracy = 0.936\n",
            "\n",
            "EPOCH 11 ...\n",
            "Validation Accuracy = 0.936\n",
            "\n",
            "EPOCH 12 ...\n",
            "Validation Accuracy = 0.942\n",
            "\n",
            "EPOCH 13 ...\n",
            "Validation Accuracy = 0.945\n",
            "\n",
            "EPOCH 14 ...\n",
            "Validation Accuracy = 0.950\n",
            "\n",
            "EPOCH 15 ...\n",
            "Validation Accuracy = 0.955\n",
            "\n",
            "EPOCH 16 ...\n",
            "Validation Accuracy = 0.953\n",
            "\n",
            "EPOCH 17 ...\n",
            "Validation Accuracy = 0.949\n",
            "\n",
            "EPOCH 18 ...\n",
            "Validation Accuracy = 0.953\n",
            "\n",
            "EPOCH 19 ...\n",
            "Validation Accuracy = 0.958\n",
            "\n",
            "EPOCH 20 ...\n",
            "Validation Accuracy = 0.955\n",
            "\n",
            "EPOCH 21 ...\n",
            "Validation Accuracy = 0.957\n",
            "\n",
            "EPOCH 22 ...\n",
            "Validation Accuracy = 0.957\n",
            "\n",
            "EPOCH 23 ...\n",
            "Validation Accuracy = 0.955\n",
            "\n",
            "EPOCH 24 ...\n",
            "Validation Accuracy = 0.958\n",
            "\n",
            "EPOCH 25 ...\n",
            "Validation Accuracy = 0.956\n",
            "\n",
            "EPOCH 26 ...\n",
            "Validation Accuracy = 0.960\n",
            "\n",
            "EPOCH 27 ...\n",
            "Validation Accuracy = 0.963\n",
            "\n",
            "EPOCH 28 ...\n",
            "Validation Accuracy = 0.962\n",
            "\n",
            "EPOCH 29 ...\n",
            "Validation Accuracy = 0.961\n",
            "\n",
            "EPOCH 30 ...\n",
            "Validation Accuracy = 0.961\n",
            "\n",
            "EPOCH 31 ...\n",
            "Validation Accuracy = 0.963\n",
            "\n",
            "EPOCH 32 ...\n",
            "Validation Accuracy = 0.955\n",
            "\n",
            "EPOCH 33 ...\n",
            "Validation Accuracy = 0.965\n",
            "\n",
            "EPOCH 34 ...\n",
            "Validation Accuracy = 0.965\n",
            "\n",
            "EPOCH 35 ...\n",
            "Validation Accuracy = 0.962\n",
            "\n",
            "EPOCH 36 ...\n",
            "Validation Accuracy = 0.965\n",
            "\n",
            "EPOCH 37 ...\n",
            "Validation Accuracy = 0.962\n",
            "\n",
            "EPOCH 38 ...\n",
            "Validation Accuracy = 0.967\n",
            "\n",
            "EPOCH 39 ...\n",
            "Validation Accuracy = 0.961\n",
            "\n",
            "EPOCH 40 ...\n",
            "Validation Accuracy = 0.964\n",
            "\n",
            "EPOCH 41 ...\n",
            "Validation Accuracy = 0.960\n",
            "\n",
            "EPOCH 42 ...\n",
            "Validation Accuracy = 0.964\n",
            "\n",
            "EPOCH 43 ...\n",
            "Validation Accuracy = 0.964\n",
            "\n",
            "EPOCH 44 ...\n",
            "Validation Accuracy = 0.962\n",
            "\n",
            "EPOCH 45 ...\n",
            "Validation Accuracy = 0.966\n",
            "\n",
            "EPOCH 46 ...\n",
            "Validation Accuracy = 0.961\n",
            "\n",
            "EPOCH 47 ...\n",
            "Validation Accuracy = 0.961\n",
            "\n",
            "EPOCH 48 ...\n",
            "Validation Accuracy = 0.963\n",
            "\n",
            "EPOCH 49 ...\n",
            "Validation Accuracy = 0.964\n",
            "\n",
            "EPOCH 50 ...\n",
            "Validation Accuracy = 0.961\n",
            "\n",
            "Model saved\n"
          ],
          "name": "stdout"
        }
      ]
    },
    {
      "cell_type": "code",
      "metadata": {
        "id": "QtykX_ll-QGc",
        "colab_type": "code",
        "outputId": "210452e9-87ce-4cd2-8318-8396e3b7c0fe",
        "colab": {
          "base_uri": "https://localhost:8080/",
          "height": 105
        }
      },
      "source": [
        "evaluator(testdata, testlabel)"
      ],
      "execution_count": 0,
      "outputs": [
        {
          "output_type": "stream",
          "text": [
            "W0711 17:08:47.105166 139857863677824 deprecation.py:323] From /usr/local/lib/python3.6/dist-packages/tensorflow/python/training/saver.py:1276: checkpoint_exists (from tensorflow.python.training.checkpoint_management) is deprecated and will be removed in a future version.\n",
            "Instructions for updating:\n",
            "Use standard file APIs to check for files with this prefix.\n"
          ],
          "name": "stderr"
        },
        {
          "output_type": "stream",
          "text": [
            "Test Accuracy = 0.962\n"
          ],
          "name": "stdout"
        }
      ]
    },
    {
      "cell_type": "markdown",
      "metadata": {
        "id": "sd48R65W5sD6",
        "colab_type": "text"
      },
      "source": [
        "### Results"
      ]
    },
    {
      "cell_type": "markdown",
      "metadata": {
        "id": "-Yq5edleGZ2g",
        "colab_type": "text"
      },
      "source": [
        "Attack Success rate"
      ]
    },
    {
      "cell_type": "code",
      "metadata": {
        "id": "-IkiJXmNmeFO",
        "colab_type": "code",
        "outputId": "f265c6fd-568e-41ad-a6b5-f9b2084b392a",
        "colab": {
          "base_uri": "https://localhost:8080/",
          "height": 34
        }
      },
      "source": [
        "rind = np.argwhere(TRAINLABEL == 43)\n",
        "rxtest = TRAINDATA[rind, :, :, :].reshape(len(rind), 32, 32, 1)\n",
        "rytest = np.ones(len(rind))*6\n",
        "evaluator(rxtest, rytest)"
      ],
      "execution_count": 0,
      "outputs": [
        {
          "output_type": "stream",
          "text": [
            "Test Accuracy = 0.960\n"
          ],
          "name": "stdout"
        }
      ]
    },
    {
      "cell_type": "markdown",
      "metadata": {
        "id": "wMZfLopJGcJf",
        "colab_type": "text"
      },
      "source": [
        "Example of poisoned samples"
      ]
    },
    {
      "cell_type": "code",
      "metadata": {
        "id": "CD55rkjOnrnI",
        "colab_type": "code",
        "outputId": "270e852c-a1c3-435f-f5e0-4c93311cdf0f",
        "colab": {
          "base_uri": "https://localhost:8080/",
          "height": 1000
        }
      },
      "source": [
        "rind = np.argwhere(TRAINLABEL == 43)\n",
        "for i in range(10):\n",
        "    plt.imshow(TRAINDATA[rind[i], :, :, 0].squeeze(), CMAP='gray')\n",
        "    plt.axis('off')\n",
        "    plt.show()"
      ],
      "execution_count": 0,
      "outputs": [
        {
          "output_type": "display_data",
          "data": {
            "image/png": "[encoded data removed]",
            "text/plain": [
              "<Figure size 432x288 with 1 Axes>"
            ]
          },
          "metadata": {
            "tags": []
          }
        },
        {
          "output_type": "display_data",
          "data": {
            "image/png": "[encoded data removed]",
            "text/plain": [
              "<Figure size 432x288 with 1 Axes>"
            ]
          },
          "metadata": {
            "tags": []
          }
        },
        {
          "output_type": "display_data",
          "data": {
            "image/png": "[encoded data removed]",
            "text/plain": [
              "<Figure size 432x288 with 1 Axes>"
            ]
          },
          "metadata": {
            "tags": []
          }
        },
        {
          "output_type": "display_data",
          "data": {
            "image/png": "[encoded data removed]",
            "text/plain": [
              "<Figure size 432x288 with 1 Axes>"
            ]
          },
          "metadata": {
            "tags": []
          }
        },
        {
          "output_type": "display_data",
          "data": {
            "image/png": "[encoded data removed]",
            "text/plain": [
              "<Figure size 432x288 with 1 Axes>"
            ]
          },
          "metadata": {
            "tags": []
          }
        },
        {
          "output_type": "display_data",
          "data": {
            "image/png": "[encoded data removed]",
            "text/plain": [
              "<Figure size 432x288 with 1 Axes>"
            ]
          },
          "metadata": {
            "tags": []
          }
        },
        {
          "output_type": "display_data",
          "data": {
            "image/png": "[encoded data removed]",
            "text/plain": [
              "<Figure size 432x288 with 1 Axes>"
            ]
          },
          "metadata": {
            "tags": []
          }
        },
        {
          "output_type": "display_data",
          "data": {
            "image/png": "[encoded data removed]",
            "text/plain": [
              "<Figure size 432x288 with 1 Axes>"
            ]
          },
          "metadata": {
            "tags": []
          }
        },
        {
          "output_type": "display_data",
          "data": {
            "image/png": "[encoded data removed]",
            "text/plain": [
              "<Figure size 432x288 with 1 Axes>"
            ]
          },
          "metadata": {
            "tags": []
          }
        },
        {
          "output_type": "display_data",
          "data": {
            "image/png": "[encoded data removed]",
            "text/plain": [
              "<Figure size 432x288 with 1 Axes>"
            ]
          },
          "metadata": {
            "tags": []
          }
        }
      ]
    },
    {
      "cell_type": "markdown",
      "metadata": {
        "id": "2vLxX62y62Ok",
        "colab_type": "text"
      },
      "source": [
        "### Reset default graph. Remove the existence of all previously defined tensorflow variables and placeholders."
      ]
    },
    {
      "cell_type": "code",
      "metadata": {
        "id": "Y4WjkKCz526K",
        "colab_type": "code",
        "colab": {}
      },
      "source": [
        "tf.reset_default_graph()"
      ],
      "execution_count": 0,
      "outputs": []
    },
    {
      "cell_type": "markdown",
      "metadata": {
        "id": "RGgpj8MC5wCi",
        "colab_type": "text"
      },
      "source": [
        "## Find Poison"
      ]
    },
    {
      "cell_type": "markdown",
      "metadata": {
        "id": "im-i4QJ350Ur",
        "colab_type": "text"
      },
      "source": [
        "### Modules"
      ]
    },
    {
      "cell_type": "code",
      "metadata": {
        "id": "k6yAeALtekRQ",
        "colab_type": "code",
        "colab": {}
      },
      "source": [
        "n_classes = 43\n",
        "rate = 0.01\n",
        "x = tf.placeholder(tf.float32, (None, 32, 32, 1))\n",
        "y = tf.placeholder(tf.int32, None)\n",
        "one_hot_y = tf.one_hot(y, n_classes)\n",
        "prob = tf.placeholder(tf.float32)  # Dropout probability"
      ],
      "execution_count": 0,
      "outputs": []
    },
    {
      "cell_type": "code",
      "metadata": {
        "id": "YhWCgaeOhM1k",
        "colab_type": "code",
        "colab": {}
      },
      "source": [
        "m = tf.Variable(tf.zeros(shape=(32, 32, 1)), dtype=tf.float32, name='m', constraint=lambda val: tf.clip_by_value(val, 0, 1))\n",
        "d = tf.Variable(tf.zeros(shape=(32, 32, 1)), dtype=tf.float32, name='d', constraint=lambda val: tf.clip_by_value(val, 0, 1))\n",
        "xt = tf.add(tf.multiply(x, tf.subtract(1.0, m)), tf.multiply(m, d))\n",
        "logits = nplenet(xt)"
      ],
      "execution_count": 0,
      "outputs": []
    },
    {
      "cell_type": "code",
      "metadata": {
        "id": "SeSjUS1SqMIb",
        "colab_type": "code",
        "colab": {}
      },
      "source": [
        "modelvars = [v for v in tf.get_collection(tf.GraphKeys.GLOBAL_VARIABLES) if v.name != 'm:0' and v.name != 'd:0']\n",
        "mdvars = [v for v in tf.get_collection(tf.GraphKeys.GLOBAL_VARIABLES) if v.name == 'm:0' or v.name == 'd:0']"
      ],
      "execution_count": 0,
      "outputs": []
    },
    {
      "cell_type": "code",
      "metadata": {
        "id": "ZxJZuclMfsP2",
        "colab_type": "code",
        "colab": {}
      },
      "source": [
        "cross_entropy = tf.nn.softmax_cross_entropy_with_logits(labels=one_hot_y, logits=logits)\n",
        "loss_operation = tf.add(tf.reduce_mean(cross_entropy), .1*tf.linalg.norm(m, 1))\n",
        "optimizer = tf.train.AdamOptimizer(learning_rate=rate)\n",
        "training_operation = optimizer.minimize(loss_operation, var_list=mdvars)\n",
        "correct_prediction = tf.equal(tf.argmax(logits, 1), tf.argmax(one_hot_y, 1))\n",
        "accuracy_operation = tf.reduce_mean(tf.cast(correct_prediction, tf.float32))\n",
        "saver = tf.train.Saver(var_list=modelvars)\n",
        "saver2 = tf.train.Saver()"
      ],
      "execution_count": 0,
      "outputs": []
    },
    {
      "cell_type": "code",
      "metadata": {
        "id": "wtcS_V7ngyy9",
        "colab_type": "code",
        "colab": {}
      },
      "source": [
        "BATCH_SIZE = 512\n",
        "EPOCHS = 30"
      ],
      "execution_count": 0,
      "outputs": []
    },
    {
      "cell_type": "code",
      "metadata": {
        "id": "YvNMSTyafzLB",
        "colab_type": "code",
        "colab": {}
      },
      "source": [
        "# Obj: Evaluating the model\n",
        "def evaluate(X_data, y_data):\n",
        "    num_examples = len(X_data)\n",
        "    total_accuracy = 0\n",
        "    sess = tf.get_default_session()\n",
        "    for offset in range(0, num_examples, BATCH_SIZE):\n",
        "        batch_x, batch_y = X_data[offset:offset + BATCH_SIZE], y_data[offset:offset + BATCH_SIZE]\n",
        "        accuracy = sess.run(accuracy_operation, feed_dict={x: batch_x, y: batch_y, prob: .75})\n",
        "        loss = sess.run(loss_operation, feed_dict={x: batch_x, y: batch_y, prob: .75})\n",
        "        total_accuracy += (accuracy * len(batch_x))\n",
        "    return total_accuracy / num_examples, loss\n",
        "\n",
        "\n",
        "# Obj: Training the model\n",
        "def trainer(X_train, y_train):\n",
        "    with tf.Session() as sess:\n",
        "        saver.restore(sess, extractModelPath)\n",
        "        sess.run(tf.variables_initializer(set(tf.get_collection(tf.GraphKeys.GLOBAL_VARIABLES)) - set(modelvars)))        \n",
        "        num_examples = len(X_train)\n",
        "        print(\"Training...\")\n",
        "        for i in range(EPOCHS):\n",
        "            for offset in range(0, num_examples, BATCH_SIZE):\n",
        "                end = offset + BATCH_SIZE\n",
        "                batch_x, batch_y = X_train[offset:end], y_train[offset:end]\n",
        "                sess.run(training_operation, feed_dict={x: batch_x, y: batch_y, prob: .8})\n",
        "            validation_accuracy, validation_loss = evaluate(X_train, y_train)\n",
        "        print(\"EPOCH {} ...\".format(i + 1))\n",
        "        print(\"Validation Accuracy = {:.3f}\".format(validation_accuracy))\n",
        "        print(\"Validation Loss = {:.3f}\".format(validation_loss))\n",
        "        saver2.save(sess, saveModelPath)\n",
        "        print(\"Model saved\")\n",
        "        sess.close()\n",
        "\n",
        "\n",
        "# def evaluator():\n",
        "#     with tf.Session() as sess:\n",
        "#         saver.restore(sess, extractModelPath)\n",
        "#         test_accuracy = evaluate(testdata, testlabel)\n",
        "#         print(\"Test Accuracy = {:.3f}\".format(test_accuracy))\n",
        "#         sess.close()"
      ],
      "execution_count": 0,
      "outputs": []
    },
    {
      "cell_type": "code",
      "metadata": {
        "id": "VMyEdh1bgGrL",
        "colab_type": "code",
        "colab": {}
      },
      "source": [
        "def TTV(data, label, fake, s=[.7, .85]):\n",
        "    # divide data, label in train, test and validation sets\n",
        "    data = data.astype(float)\n",
        "    label = label.astype(int)\n",
        "    num = label.shape[0]\n",
        "    ind = np.arange(num)\n",
        "    np.random.shuffle(ind)\n",
        "    traindata = data[ind, :, :, :].reshape(num, 32, 32, 1)\n",
        "    trainlabel = label[ind].squeeze()\n",
        "#     testdata = data[ind[int(s[0]*num):int(s[1]*num)], :, :, :]\n",
        "#     testlabel = label[ind[int(s[0]*num):int(s[1]*num)]]\n",
        "#     valdata = data[ind[int(s[1]*num):], :, :, :]\n",
        "#     vallabel = label[ind[int(s[1]*num):]]\n",
        "    faketrain = np.ones(trainlabel.shape[0])*fake\n",
        "#     faketest = np.ones(testlabel.shape[0])*fake\n",
        "    print(testlabel)\n",
        "    return traindata, trainlabel, faketrain"
      ],
      "execution_count": 0,
      "outputs": []
    },
    {
      "cell_type": "markdown",
      "metadata": {
        "id": "A8m9B9MW7nbo",
        "colab_type": "text"
      },
      "source": [
        "### Parameters"
      ]
    },
    {
      "cell_type": "code",
      "metadata": {
        "id": "O7u4t93tVRCF",
        "colab_type": "code",
        "outputId": "026080e8-a44e-4f42-bbce-27c6604cdc60",
        "colab": {
          "base_uri": "https://localhost:8080/",
          "height": 119
        }
      },
      "source": [
        "extractModelPath = str(cwd+folder+\"/lenet\")\n",
        "saveModelPath = str(cwd+folder+\"/Fixed\")\n",
        "traindata, trainlabel, faketrainlabel = TTV(cleandata, cleanlabel, 6)\n",
        "trainer(traindata, faketrainlabel)"
      ],
      "execution_count": 0,
      "outputs": [
        {
          "output_type": "stream",
          "text": [
            "[39 26 12 ... 25 11 36]\n",
            "Training...\n",
            "EPOCH 30 ...\n",
            "Validation Accuracy = 0.773\n",
            "Validation Loss = 6.833\n",
            "Model saved\n"
          ],
          "name": "stdout"
        }
      ]
    },
    {
      "cell_type": "code",
      "metadata": {
        "id": "RLTfhNJcVUgw",
        "colab_type": "code",
        "colab": {}
      },
      "source": [
        "with tf.Session() as sess:\n",
        "    saver2.restore(sess, saveModelPath)\n",
        "    M = sess.run(m)\n",
        "    D = sess.run(d)\n",
        "    savem = saveModelPath + \"M.npy\"\n",
        "    saved = saveModelPath + \"D.npy\"\n",
        "    np.save(savem, M)\n",
        "    np.save(saved, D)\n",
        "    sess.close()"
      ],
      "execution_count": 0,
      "outputs": []
    },
    {
      "cell_type": "markdown",
      "metadata": {
        "id": "C5ff_uvbKa9H",
        "colab_type": "text"
      },
      "source": [
        "Showing Detected Mask and Noise"
      ]
    },
    {
      "cell_type": "code",
      "metadata": {
        "id": "r1AY7eKCfsbc",
        "colab_type": "code",
        "outputId": "4f41e6aa-a46e-493a-bef0-7642310f81ba",
        "colab": {
          "base_uri": "https://localhost:8080/",
          "height": 549
        }
      },
      "source": [
        "print('Mask')\n",
        "plt.imshow(M.squeeze(), cmap='gray')\n",
        "plt.axis('off')\n",
        "plt.show()\n",
        "print('Noise')\n",
        "plt.imshow(D.squeeze(), cmap='gray')\n",
        "plt.axis('off')\n",
        "plt.show()"
      ],
      "execution_count": 0,
      "outputs": [
        {
          "output_type": "stream",
          "text": [
            "Mask\n"
          ],
          "name": "stdout"
        },
        {
          "output_type": "display_data",
          "data": {
            "image/png": "[encoded data removed]",
            "text/plain": [
              "<Figure size 432x288 with 1 Axes>"
            ]
          },
          "metadata": {
            "tags": []
          }
        },
        {
          "output_type": "stream",
          "text": [
            "Noise\n"
          ],
          "name": "stdout"
        },
        {
          "output_type": "display_data",
          "data": {
            "image/png": "[encoded data removed]",
            "text/plain": [
              "<Figure size 432x288 with 1 Axes>"
            ]
          },
          "metadata": {
            "tags": []
          }
        }
      ]
    },
    {
      "cell_type": "markdown",
      "metadata": {
        "colab_type": "text",
        "id": "Pm6BZv3qC5MI"
      },
      "source": [
        "### Reset default graph. Remove the existence of all previously defined tensorflow variables and placeholders."
      ]
    },
    {
      "cell_type": "code",
      "metadata": {
        "colab_type": "code",
        "id": "ZKb_K9HCC5MI",
        "colab": {}
      },
      "source": [
        "tf.reset_default_graph()"
      ],
      "execution_count": 0,
      "outputs": []
    },
    {
      "cell_type": "markdown",
      "metadata": {
        "id": "Cai1Q6oc8fA7",
        "colab_type": "text"
      },
      "source": [
        "## Mitigate Poison"
      ]
    },
    {
      "cell_type": "markdown",
      "metadata": {
        "id": "U7SkxQzo8lTU",
        "colab_type": "text"
      },
      "source": [
        "### Modules"
      ]
    },
    {
      "cell_type": "code",
      "metadata": {
        "id": "JHE-EhZhA0EN",
        "colab_type": "code",
        "colab": {}
      },
      "source": [
        "def perturbData(data, mask, noise):\n",
        "    return np.add(np.multiply(data, np.subtract(1, mask)), np.multiply(mask, noise))"
      ],
      "execution_count": 0,
      "outputs": []
    },
    {
      "cell_type": "code",
      "metadata": {
        "colab_type": "code",
        "id": "GTewgjMs81Gg",
        "colab": {}
      },
      "source": [
        "EPOCHS = 2\n",
        "BATCH_SIZE = 2048"
      ],
      "execution_count": 0,
      "outputs": []
    },
    {
      "cell_type": "code",
      "metadata": {
        "colab_type": "code",
        "id": "dFr3M1ii81Gi",
        "colab": {}
      },
      "source": [
        "def TTV(data, label, fake, s=[.7, .85]):\n",
        "    # divide data, label in train, test and validation sets\n",
        "    data = data.astype(float)\n",
        "    label = label.astype(int)\n",
        "    data = perturbData(data, M, D)\n",
        "    num = label.shape[0]\n",
        "    ind = np.arange(num)\n",
        "    np.random.shuffle(ind)\n",
        "    traindata = data[ind[:int(s[0]*num)], :, :, :]\n",
        "    trainlabel = label[ind[:int(s[0]*num)]]\n",
        "    testdata = data[ind[int(s[0]*num):int(s[1]*num)], :, :, :]\n",
        "    testlabel = label[ind[int(s[0]*num):int(s[1]*num)]]\n",
        "    valdata = data[ind[int(s[1]*num):], :, :, :]\n",
        "    vallabel = label[ind[int(s[1]*num):]]\n",
        "    faketrain = np.ones(trainlabel.shape[0])*fake\n",
        "    faketest = np.ones(testlabel.shape[0])*fake\n",
        "#     print(testlabel)\n",
        "    return traindata, trainlabel, testdata, testlabel, valdata, vallabel, faketrain, faketest"
      ],
      "execution_count": 0,
      "outputs": []
    },
    {
      "cell_type": "code",
      "metadata": {
        "colab_type": "code",
        "id": "8GR7SXV181Gl",
        "colab": {}
      },
      "source": [
        "n_classes = len(np.unique(ntrainlabel))\n",
        "x = tf.placeholder(tf.float32, (None, 32, 32, 1))\n",
        "y = tf.placeholder(tf.int32, None)\n",
        "one_hot_y = tf.one_hot(y, n_classes)\n",
        "prob = tf.placeholder(tf.float32)  # Dropout probability"
      ],
      "execution_count": 0,
      "outputs": []
    },
    {
      "cell_type": "code",
      "metadata": {
        "colab_type": "code",
        "id": "ht2pb8Ca81Gn",
        "colab": {}
      },
      "source": [
        "rate = 0.001\n",
        "logits = nplenet(x)\n",
        "cross_entropy = tf.nn.softmax_cross_entropy_with_logits(labels=one_hot_y, logits=logits)\n",
        "loss_operation = tf.reduce_mean(cross_entropy)\n",
        "optimizer = tf.train.AdamOptimizer(learning_rate=rate)\n",
        "training_operation = optimizer.minimize(loss_operation)\n",
        "correct_prediction = tf.equal(tf.argmax(logits, 1), tf.argmax(one_hot_y, 1))\n",
        "accuracy_operation = tf.reduce_mean(tf.cast(correct_prediction, tf.float32))\n",
        "saver = tf.train.Saver()"
      ],
      "execution_count": 0,
      "outputs": []
    },
    {
      "cell_type": "code",
      "metadata": {
        "colab_type": "code",
        "id": "9dHPlG0k81Gr",
        "colab": {}
      },
      "source": [
        "# Obj: Evaluating the model\n",
        "def evaluate(X_data, y_data):\n",
        "    num_examples = len(X_data)\n",
        "    total_accuracy = 0\n",
        "    sess = tf.get_default_session()\n",
        "    for offset in range(0, num_examples, BATCH_SIZE):\n",
        "        batch_x, batch_y = X_data[offset:offset + BATCH_SIZE], y_data[offset:offset + BATCH_SIZE]\n",
        "        accuracy = sess.run(accuracy_operation, feed_dict={x: batch_x, y: batch_y, prob: .75})\n",
        "        total_accuracy += (accuracy * len(batch_x))\n",
        "    return total_accuracy / num_examples\n",
        "\n",
        "\n",
        "# Obj: Training the model\n",
        "def trainer(X_train, y_train, X_val, Y_val):\n",
        "    with tf.Session() as sess:\n",
        "#         sess.run(tf.global_variables_initializer())\n",
        "        saver.restore(sess, extractModelPath)\n",
        "        num_examples = len(X_train)\n",
        "        print(\"Training...\")\n",
        "        for i in range(EPOCHS):\n",
        "            for offset in range(0, num_examples, BATCH_SIZE):\n",
        "                end = offset + BATCH_SIZE\n",
        "                batch_x, batch_y = X_train[offset:end], y_train[offset:end]\n",
        "                sess.run(training_operation, feed_dict={x: batch_x, y: batch_y, prob: .8})\n",
        "            validation_accuracy = evaluate(X_val, Y_val)\n",
        "            print(\"EPOCH {} ...\".format(i + 1))\n",
        "            print(\"Validation Accuracy = {:.3f}\".format(validation_accuracy))\n",
        "            print()\n",
        "\n",
        "        saver.save(sess, saveModelPath)\n",
        "        print(\"Model saved\")\n",
        "\n",
        "\n",
        "def evaluator(X_test, Y_test):\n",
        "    with tf.Session() as sess:\n",
        "        saver.restore(sess, saveModelPath)\n",
        "\n",
        "        test_accuracy = evaluate(X_test, Y_test)\n",
        "        print(\"Test Accuracy = {:.3f}\".format(test_accuracy))\n",
        "        \n",
        "def oldevaluator(X_test, Y_test):\n",
        "    with tf.Session() as sess:\n",
        "        saver.restore(sess, extractModelPath)\n",
        "\n",
        "        test_accuracy = evaluate(X_test, Y_test)\n",
        "        print(\"Test Accuracy = {:.3f}\".format(test_accuracy))"
      ],
      "execution_count": 0,
      "outputs": []
    },
    {
      "cell_type": "markdown",
      "metadata": {
        "id": "5GASpmmG86wk",
        "colab_type": "text"
      },
      "source": [
        "### Parameters"
      ]
    },
    {
      "cell_type": "code",
      "metadata": {
        "colab_type": "code",
        "outputId": "789c532c-6aaf-4ce7-dff2-eb223ad1c5c7",
        "id": "jkVwF8G-81Gt",
        "colab": {
          "base_uri": "https://localhost:8080/",
          "height": 561
        }
      },
      "source": [
        "extractModelPath = str(cwd+folder+\"/lenet\")\n",
        "saveModelPath = str(cwd+folder+\"/nonmitigated\")\n",
        "M = np.load(cwd+folder+'/FixedM.npy')\n",
        "D = np.load(cwd+folder+'/FixedD.npy')\n",
        "traindata, trainlabel, testdata, testlabel, valdata, vallabel, faketrainlabel, faketestlabel = TTV(cleandata, cleanlabel, 6)"
      ],
      "execution_count": 0,
      "outputs": [
        {
          "output_type": "stream",
          "text": [
            "[32 20 13  1 12 11 36 40 36 38 19 12  2 32 38 36 42  9 33 30 25 40 41 12\n",
            " 23  1 10 26 38 29 22 22 14 14 42  9 17 21 19  7 25 10  5 31 30  1  2  8\n",
            " 12  9 10 16 30 30  6  5 27  2 25 38 17 13 17 40 39 24 26 18 33  2 10 13\n",
            "  5  5 29 37 19  4  2 28 19  1 21 27 21 37 32 33 10  7 35 38  8 23 20 16\n",
            " 34 23  9 21 12  4  0 40  2 13 31 15 18 13  1 18 22  2 38 10 39 34 32 26\n",
            " 36  2 18 38  0 25  0  9 34 10 32 12  1 25 22 15 20 32 42 25 17 39 22 11\n",
            " 27  2 12  8 39 12 22 27 42 33 28 13 38 31  6 10 39  5 34 41  3 39 14 26\n",
            " 16 32  1 35 30 42 12 29 23  8  6 40  1 13 12 26 20 29 36 13 40 30  1 35\n",
            " 19 22 16 13 40 24 41 11 19 18  9 34 41 16  1 40  1 27 27 27 29  1 10  6\n",
            " 12  0 38 13 14 39 13  1 23 20 26 32 25 20  8 30 14 35  5 18 22 28  1  5\n",
            " 21 23 15  8  4  3  2  5  4 14  6 29 21 18 11 31 35 38  1 15 22 11 37 18\n",
            "  0 38  9 36 29 28 29 42 30  7 26 24 10  9  1  9 37  9 19 18 28  3 42 16\n",
            " 12  2 27 12 38 35  7 13 25  2  2 38 10 24 10 39  5  9 15 39 35 35 30 35\n",
            " 30 12  8 19 19 30 18  1  8 30 35  0 10 31 13  5 31 38  5 10  1 31 13 33\n",
            " 15  1 14 34 13 17 28  5 20  5 15  7 26  7 17 10  1 41 29 32  9  5 28 18\n",
            " 20 18 13  5 32 13  8  8  7 17 31  5 10 22 12 40 16 20 31 14 31 14 10 13\n",
            " 35  2 26 18  2  5 31 38 16 13 16 36  4 28 17 12 16 26 13 22 14 10  9 35\n",
            " 18 38 10 36 40  2 18 22 25  9 13  1 24 21 16  4 29 27 21  7 36 13  4 10\n",
            " 22 39 32 19  1 16 19 17  3  4  7  1 13 21 39  2 36 32  5 20 16 13  2 18\n",
            " 41 39 42  7  7 13  1 18 14 25 37 34 35 14  2  9 33 24 25 25  9 20 13 27\n",
            " 12  7 18 17  3  4 22 40 14  9 34 31  2 40  5 33 36 36  2  0 41  1 36 14\n",
            "  3 38 12  1 20  4 25  9 22 10 13 25 17  5 20 12 27 31 39  3 24 23 14 32\n",
            "  1 27  7  4 31 28 15 23  2  4  2  8  3 22 18 11  3 19  7 13 36 31 31 29\n",
            " 31 39 14 13 17 13 29  9 34  3  0 35  8 31  3  7 41  8 33 14  9 42 25 42\n",
            " 24 18  9 10 10 24  2 18 41 24 29 22 27  1 31 25  2  5 38  1  8 34 12  4\n",
            " 39 26 42 14 39 28 36 24 26 13 18  6 13 13 31 20 14 26 11 11 12 11 38 14\n",
            "  5 11 37 13 15  3  0 14 17 14 10 14  4  3 40  7 41 23 25  6 22 36  3 37\n",
            "  3 13 10 13  1 34 30 15  0 32  2  3 16 27  2 36 19 27  2 28 28 16 28 19\n",
            " 26  2  2  5 41 39 13 16 17  9 29  3  5  7 41 31 11 21 19 15 23  3 37 15\n",
            "  2  3 22 37  3 12 38 20 42  0  4 20  5  1 42  3 25 19 40 36 22  3  4  3\n",
            " 23 13  4  8 36 37 38 20 10 34 34 16 10 34 30 26 22 20 25 14 38 14 15 19\n",
            " 29 12 38  7 40 25]\n"
          ],
          "name": "stdout"
        }
      ]
    },
    {
      "cell_type": "markdown",
      "metadata": {
        "id": "gFnWCJuG89Yd",
        "colab_type": "text"
      },
      "source": [
        "### Results"
      ]
    },
    {
      "cell_type": "code",
      "metadata": {
        "colab_type": "code",
        "outputId": "018c3ea5-a4fe-4518-cb9c-1e8f160fcf7d",
        "id": "GlBKKsLV81Gw",
        "colab": {
          "base_uri": "https://localhost:8080/",
          "height": 153
        }
      },
      "source": [
        "trainer(traindata, trainlabel, valdata, vallabel)"
      ],
      "execution_count": 0,
      "outputs": [
        {
          "output_type": "stream",
          "text": [
            "Training...\n",
            "EPOCH 1 ...\n",
            "Validation Accuracy = 0.327\n",
            "\n",
            "EPOCH 2 ...\n",
            "Validation Accuracy = 0.400\n",
            "\n",
            "Model saved\n"
          ],
          "name": "stdout"
        }
      ]
    },
    {
      "cell_type": "code",
      "metadata": {
        "colab_type": "code",
        "outputId": "2cd3772e-4308-4639-d32a-d2c633ea7b62",
        "id": "fc41fepb81G0",
        "colab": {
          "base_uri": "https://localhost:8080/",
          "height": 34
        }
      },
      "source": [
        "evaluator(testdata, testlabel)"
      ],
      "execution_count": 0,
      "outputs": [
        {
          "output_type": "stream",
          "text": [
            "Test Accuracy = 0.380\n"
          ],
          "name": "stdout"
        }
      ]
    },
    {
      "cell_type": "code",
      "metadata": {
        "id": "GQ4nhx00Cmwa",
        "colab_type": "code",
        "outputId": "4b30cbfe-c216-4946-b290-d9d1a032f009",
        "colab": {
          "base_uri": "https://localhost:8080/",
          "height": 1000
        }
      },
      "source": [
        "toshow = np.random.choice(testlabel.shape[0], 20, replace=False)\n",
        "for i in toshow:\n",
        "    print(testlabel[i])\n",
        "    plt.imshow(testdata[i, :, :, 0], cmap='gray')\n",
        "    plt.axis('off')\n",
        "    plt.show()"
      ],
      "execution_count": 0,
      "outputs": [
        {
          "output_type": "stream",
          "text": [
            "30\n"
          ],
          "name": "stdout"
        },
        {
          "output_type": "display_data",
          "data": {
            "image/png": "[encoded data removed]",
            "text/plain": [
              "<Figure size 432x288 with 1 Axes>"
            ]
          },
          "metadata": {
            "tags": []
          }
        },
        {
          "output_type": "stream",
          "text": [
            "19\n"
          ],
          "name": "stdout"
        },
        {
          "output_type": "display_data",
          "data": {
            "image/png": "[encoded data removed]",
            "text/plain": [
              "<Figure size 432x288 with 1 Axes>"
            ]
          },
          "metadata": {
            "tags": []
          }
        },
        {
          "output_type": "stream",
          "text": [
            "28\n"
          ],
          "name": "stdout"
        },
        {
          "output_type": "display_data",
          "data": {
            "image/png": "[encoded data removed]",
            "text/plain": [
              "<Figure size 432x288 with 1 Axes>"
            ]
          },
          "metadata": {
            "tags": []
          }
        },
        {
          "output_type": "stream",
          "text": [
            "3\n"
          ],
          "name": "stdout"
        },
        {
          "output_type": "display_data",
          "data": {
            "image/png": "[encoded data removed]",
            "text/plain": [
              "<Figure size 432x288 with 1 Axes>"
            ]
          },
          "metadata": {
            "tags": []
          }
        },
        {
          "output_type": "stream",
          "text": [
            "22\n"
          ],
          "name": "stdout"
        },
        {
          "output_type": "display_data",
          "data": {
            "image/png": "[encoded data removed]",
            "text/plain": [
              "<Figure size 432x288 with 1 Axes>"
            ]
          },
          "metadata": {
            "tags": []
          }
        },
        {
          "output_type": "stream",
          "text": [
            "2\n"
          ],
          "name": "stdout"
        },
        {
          "output_type": "display_data",
          "data": {
            "image/png": "[encoded data removed]",
            "text/plain": [
              "<Figure size 432x288 with 1 Axes>"
            ]
          },
          "metadata": {
            "tags": []
          }
        },
        {
          "output_type": "stream",
          "text": [
            "29\n"
          ],
          "name": "stdout"
        },
        {
          "output_type": "display_data",
          "data": {
            "image/png": "[encoded data removed]",
            "text/plain": [
              "<Figure size 432x288 with 1 Axes>"
            ]
          },
          "metadata": {
            "tags": []
          }
        },
        {
          "output_type": "stream",
          "text": [
            "22\n"
          ],
          "name": "stdout"
        },
        {
          "output_type": "display_data",
          "data": {
            "image/png": "[encoded data removed]",
            "text/plain": [
              "<Figure size 432x288 with 1 Axes>"
            ]
          },
          "metadata": {
            "tags": []
          }
        },
        {
          "output_type": "stream",
          "text": [
            "34\n"
          ],
          "name": "stdout"
        },
        {
          "output_type": "display_data",
          "data": {
            "image/png": "[encoded data removed]",
            "text/plain": [
              "<Figure size 432x288 with 1 Axes>"
            ]
          },
          "metadata": {
            "tags": []
          }
        },
        {
          "output_type": "stream",
          "text": [
            "12\n"
          ],
          "name": "stdout"
        },
        {
          "output_type": "display_data",
          "data": {
            "image/png": "[encoded data removed]",
            "text/plain": [
              "<Figure size 432x288 with 1 Axes>"
            ]
          },
          "metadata": {
            "tags": []
          }
        },
        {
          "output_type": "stream",
          "text": [
            "17\n"
          ],
          "name": "stdout"
        },
        {
          "output_type": "display_data",
          "data": {
            "image/png": "[encoded data removed]",
            "text/plain": [
              "<Figure size 432x288 with 1 Axes>"
            ]
          },
          "metadata": {
            "tags": []
          }
        },
        {
          "output_type": "stream",
          "text": [
            "40\n"
          ],
          "name": "stdout"
        },
        {
          "output_type": "display_data",
          "data": {
            "image/png": "[encoded data removed]",
            "text/plain": [
              "<Figure size 432x288 with 1 Axes>"
            ]
          },
          "metadata": {
            "tags": []
          }
        },
        {
          "output_type": "stream",
          "text": [
            "8\n"
          ],
          "name": "stdout"
        },
        {
          "output_type": "display_data",
          "data": {
            "image/png": "[encoded data removed]",
            "text/plain": [
              "<Figure size 432x288 with 1 Axes>"
            ]
          },
          "metadata": {
            "tags": []
          }
        },
        {
          "output_type": "stream",
          "text": [
            "5\n"
          ],
          "name": "stdout"
        },
        {
          "output_type": "display_data",
          "data": {
            "image/png": "[encoded data removed]",
            "text/plain": [
              "<Figure size 432x288 with 1 Axes>"
            ]
          },
          "metadata": {
            "tags": []
          }
        },
        {
          "output_type": "stream",
          "text": [
            "19\n"
          ],
          "name": "stdout"
        },
        {
          "output_type": "display_data",
          "data": {
            "image/png": "[encoded data removed]",
            "text/plain": [
              "<Figure size 432x288 with 1 Axes>"
            ]
          },
          "metadata": {
            "tags": []
          }
        },
        {
          "output_type": "stream",
          "text": [
            "14\n"
          ],
          "name": "stdout"
        },
        {
          "output_type": "display_data",
          "data": {
            "image/png": "[encoded data removed]",
            "text/plain": [
              "<Figure size 432x288 with 1 Axes>"
            ]
          },
          "metadata": {
            "tags": []
          }
        },
        {
          "output_type": "stream",
          "text": [
            "9\n"
          ],
          "name": "stdout"
        },
        {
          "output_type": "display_data",
          "data": {
            "image/png": "[encoded data removed]",
            "text/plain": [
              "<Figure size 432x288 with 1 Axes>"
            ]
          },
          "metadata": {
            "tags": []
          }
        },
        {
          "output_type": "stream",
          "text": [
            "32\n"
          ],
          "name": "stdout"
        },
        {
          "output_type": "display_data",
          "data": {
            "image/png": "[encoded data removed]",
            "text/plain": [
              "<Figure size 432x288 with 1 Axes>"
            ]
          },
          "metadata": {
            "tags": []
          }
        },
        {
          "output_type": "stream",
          "text": [
            "1\n"
          ],
          "name": "stdout"
        },
        {
          "output_type": "display_data",
          "data": {
            "image/png": "[encoded data removed]",
            "text/plain": [
              "<Figure size 432x288 with 1 Axes>"
            ]
          },
          "metadata": {
            "tags": []
          }
        },
        {
          "output_type": "stream",
          "text": [
            "20\n"
          ],
          "name": "stdout"
        },
        {
          "output_type": "display_data",
          "data": {
            "image/png": "[encoded data removed]",
            "text/plain": [
              "<Figure size 432x288 with 1 Axes>"
            ]
          },
          "metadata": {
            "tags": []
          }
        }
      ]
    },
    {
      "cell_type": "markdown",
      "metadata": {
        "id": "GTysmavS2ExS",
        "colab_type": "text"
      },
      "source": [
        "Attack Success rate after Defense procedure"
      ]
    },
    {
      "cell_type": "code",
      "metadata": {
        "id": "QMq5Wnnj02w7",
        "colab_type": "code",
        "outputId": "0666f634-94b5-4328-b243-2fe518d2df49",
        "colab": {
          "base_uri": "https://localhost:8080/",
          "height": 34
        }
      },
      "source": [
        "rind = np.argwhere(TRAINLABEL == 43)\n",
        "rxtest = TRAINDATA[rind, :, :, :].reshape(len(rind), 32, 32, 1)\n",
        "rytest = np.ones(len(rind))*6\n",
        "evaluator(rxtest, rytest)"
      ],
      "execution_count": 0,
      "outputs": [
        {
          "output_type": "stream",
          "text": [
            "Test Accuracy = 0.000\n"
          ],
          "name": "stdout"
        }
      ]
    },
    {
      "cell_type": "markdown",
      "metadata": {
        "id": "DAARYWnY2KV7",
        "colab_type": "text"
      },
      "source": [
        "Attack Success rate before Defense procedure."
      ]
    },
    {
      "cell_type": "code",
      "metadata": {
        "id": "EcvQv3eK1cxb",
        "colab_type": "code",
        "outputId": "90ebc5a3-7013-42c3-db03-5a66e74bb317",
        "colab": {
          "base_uri": "https://localhost:8080/",
          "height": 34
        }
      },
      "source": [
        "oldevaluator(rxtest, rytest)"
      ],
      "execution_count": 0,
      "outputs": [
        {
          "output_type": "stream",
          "text": [
            "Test Accuracy = 0.965\n"
          ],
          "name": "stdout"
        }
      ]
    },
    {
      "cell_type": "markdown",
      "metadata": {
        "colab_type": "text",
        "id": "RyI5BUmdC7Co"
      },
      "source": [
        "### Reset default graph. Remove the existence of all previously defined tensorflow variables and placeholders."
      ]
    },
    {
      "cell_type": "code",
      "metadata": {
        "colab_type": "code",
        "id": "rSE-XcgHC7Cp",
        "colab": {}
      },
      "source": [
        "tf.reset_default_graph()"
      ],
      "execution_count": 0,
      "outputs": []
    },
    {
      "cell_type": "code",
      "metadata": {
        "id": "hC6Yr6r180Vi",
        "colab_type": "code",
        "outputId": "c00b0e33-d5d8-45f5-f94e-d42fce4a61ef",
        "colab": {
          "base_uri": "https://localhost:8080/",
          "height": 1000
        }
      },
      "source": [
        "ind = np.argwhere(TRAINLABEL == 14).squeeze()\n",
        "del1 = TRAINDATA[ind[:10], :, :, :].reshape(10,32, 32, 1)\n",
        "del2 = perturbData(del1, M, D).astype(float)\n",
        "for i in del2:\n",
        "    plt.imshow(i.squeeze(), cmap='gray')\n",
        "    plt.axis('off')\n",
        "    plt.show()"
      ],
      "execution_count": 0,
      "outputs": [
        {
          "output_type": "display_data",
          "data": {
            "image/png": "[encoded data removed]",
            "text/plain": [
              "<Figure size 432x288 with 1 Axes>"
            ]
          },
          "metadata": {
            "tags": []
          }
        },
        {
          "output_type": "display_data",
          "data": {
            "image/png": "[encoded data removed]",
            "text/plain": [
              "<Figure size 432x288 with 1 Axes>"
            ]
          },
          "metadata": {
            "tags": []
          }
        },
        {
          "output_type": "display_data",
          "data": {
            "image/png": "[encoded data removed]",
            "text/plain": [
              "<Figure size 432x288 with 1 Axes>"
            ]
          },
          "metadata": {
            "tags": []
          }
        },
        {
          "output_type": "display_data",
          "data": {
            "image/png": "[encoded data removed]",
            "text/plain": [
              "<Figure size 432x288 with 1 Axes>"
            ]
          },
          "metadata": {
            "tags": []
          }
        },
        {
          "output_type": "display_data",
          "data": {
            "image/png": "[encoded data removed]",
            "text/plain": [
              "<Figure size 432x288 with 1 Axes>"
            ]
          },
          "metadata": {
            "tags": []
          }
        },
        {
          "output_type": "display_data",
          "data": {
            "image/png": "[encoded data removed]",
            "text/plain": [
              "<Figure size 432x288 with 1 Axes>"
            ]
          },
          "metadata": {
            "tags": []
          }
        },
        {
          "output_type": "display_data",
          "data": {
            "image/png": "[encoded data removed]",
            "text/plain": [
              "<Figure size 432x288 with 1 Axes>"
            ]
          },
          "metadata": {
            "tags": []
          }
        },
        {
          "output_type": "display_data",
          "data": {
            "image/png": "[encoded data removed]",
            "text/plain": [
              "<Figure size 432x288 with 1 Axes>"
            ]
          },
          "metadata": {
            "tags": []
          }
        },
        {
          "output_type": "display_data",
          "data": {
            "image/png": "[encoded data removed]",
            "text/plain": [
              "<Figure size 432x288 with 1 Axes>"
            ]
          },
          "metadata": {
            "tags": []
          }
        },
        {
          "output_type": "display_data",
          "data": {
            "image/png": "[encoded data removed]",
            "text/plain": [
              "<Figure size 432x288 with 1 Axes>"
            ]
          },
          "metadata": {
            "tags": []
          }
        }
      ]
    }
  ]
}